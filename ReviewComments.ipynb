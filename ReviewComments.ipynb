{
 "cells": [
  {
   "cell_type": "code",
   "execution_count": 7,
   "metadata": {},
   "outputs": [
    {
     "data": {
      "text/plain": [
       "'POSITIVE'"
      ]
     },
     "execution_count": 7,
     "metadata": {},
     "output_type": "execute_result"
    }
   ],
   "source": [
    "#lets first get the datset to work on\n",
    "\n",
    "dataset_file_name = \"./BooksReview.json\"\n",
    "\n",
    "# will have to filter the dataset with mininal columns required\n",
    "# in our case it woule be just review text and review score \n",
    "# and with given score for text we will make another field called sentiments\n",
    "# we would need a class for this\n",
    "\n",
    "\n",
    "class Sentiment:\n",
    "    NEGATIVE = \"NEGATIVE\"\n",
    "    POSITIVE = \"POSITIVE\"\n",
    "class Review:\n",
    "    def __init__(self, reviewText, reviewScore):\n",
    "        self.reviewText = reviewText\n",
    "        self.reviewScore = reviewScore\n",
    "        self.sentiments = self.getSentiments()\n",
    "        \n",
    "    def getSentiments(self):\n",
    "        if self.reviewScore <=3:\n",
    "            return Sentiment.NEGATIVE\n",
    "        else:\n",
    "            return Sentiment.POSITIVE\n",
    "\n",
    "import json\n",
    "\n",
    "reviews = []\n",
    "with open(dataset_file_name) as dataset:\n",
    "    for line in dataset:\n",
    "        review = json.loads(line)\n",
    "        reviews.append(Review(review['reviewText'], review['overall']))\n",
    "        \n",
    "reviews[2].sentiments"
   ]
  },
  {
   "cell_type": "code",
   "execution_count": 8,
   "metadata": {},
   "outputs": [
    {
     "name": "stdout",
     "output_type": "stream",
     "text": [
      "9900\n",
      "100\n"
     ]
    }
   ],
   "source": [
    "#now at this point we have the fitered dataset that we need for our example\n",
    "\n",
    "#lets split the dataset with two set one for training the model and other to test the model\n",
    "\n",
    "from sklearn.model_selection import train_test_split\n",
    "\n",
    "train, test = train_test_split(reviews,test_size=0.01, random_state=42)\n",
    "\n",
    "print(len(train))\n",
    "print(len(test))"
   ]
  },
  {
   "cell_type": "code",
   "execution_count": 9,
   "metadata": {},
   "outputs": [
    {
     "name": "stdout",
     "output_type": "stream",
     "text": [
      "It's a bit short though.If you like this book, you should read Carol Radziwill's WHAT REMAINS.It made really sad afterwards, but it was worth to buy it.\n",
      "POSITIVE\n"
     ]
    }
   ],
   "source": [
    "#split input and output train data\n",
    "\n",
    "train_x = [x.reviewText for x in train]\n",
    "train_y = [y.sentiments for y in train]\n",
    "\n",
    "test_x = [x.reviewText for x in test]\n",
    "test_y = [y.sentiments for y in test]\n",
    "\n",
    "#print(train_x[0])\n",
    "#print(train_y[0])\n",
    "print(test_x[6])\n",
    "print(test_y[6])\n",
    "\n",
    "\n"
   ]
  },
  {
   "cell_type": "code",
   "execution_count": 16,
   "metadata": {},
   "outputs": [],
   "source": [
    "from sklearn.feature_extraction.text import CountVectorizer, TfidfVectorizer\n",
    "\n",
    "#vectorizer = CountVectorizer()\n",
    "vectorizer = TfidfVectorizer()\n",
    "\n",
    "train_input_vector = vectorizer.fit_transform(train_x)\n",
    "test_input_vector = vectorizer.transform(test_x)\n",
    "\n",
    "test_input_vector_2 = vectorizer.transform([\"not good\",\"very good\"])\n",
    "\n"
   ]
  },
  {
   "cell_type": "code",
   "execution_count": 17,
   "metadata": {},
   "outputs": [
    {
     "data": {
      "text/plain": [
       "array(['POSITIVE'], dtype='|S8')"
      ]
     },
     "execution_count": 17,
     "metadata": {},
     "output_type": "execute_result"
    }
   ],
   "source": [
    "#Now we are ready for classification section\n",
    "#here is where all the magic begins\n",
    "\n",
    "from sklearn import svm\n",
    "\n",
    "clf_svm = svm.SVC(kernel='linear')\n",
    "clf_svm.fit(train_input_vector, train_y)\n",
    "clf_svm.predict(test_input_vector_2[1])\n"
   ]
  },
  {
   "cell_type": "code",
   "execution_count": 18,
   "metadata": {},
   "outputs": [
    {
     "data": {
      "text/plain": [
       "array(['POSITIVE'], dtype='|S8')"
      ]
     },
     "execution_count": 18,
     "metadata": {},
     "output_type": "execute_result"
    }
   ],
   "source": [
    "from sklearn.tree import DecisionTreeClassifier\n",
    "\n",
    "clf_deciTree = DecisionTreeClassifier()\n",
    "clf_deciTree.fit(train_input_vector, train_y)\n",
    "clf_deciTree.predict(test_input_vector_2[1])"
   ]
  },
  {
   "cell_type": "code",
   "execution_count": 19,
   "metadata": {},
   "outputs": [
    {
     "data": {
      "text/plain": [
       "array(['POSITIVE'], dtype='|S8')"
      ]
     },
     "execution_count": 19,
     "metadata": {},
     "output_type": "execute_result"
    }
   ],
   "source": [
    "from sklearn.linear_model import LogisticRegression\n",
    "\n",
    "clf_log = LogisticRegression()\n",
    "clf_log.fit(train_input_vector, train_y)\n",
    "\n",
    "clf_log.predict(test_input_vector_2[1])"
   ]
  },
  {
   "cell_type": "code",
   "execution_count": null,
   "metadata": {},
   "outputs": [],
   "source": []
  }
 ],
 "metadata": {
  "kernelspec": {
   "display_name": "Python 2",
   "language": "python",
   "name": "python2"
  },
  "language_info": {
   "codemirror_mode": {
    "name": "ipython",
    "version": 2
   },
   "file_extension": ".py",
   "mimetype": "text/x-python",
   "name": "python",
   "nbconvert_exporter": "python",
   "pygments_lexer": "ipython2",
   "version": "2.7.10"
  }
 },
 "nbformat": 4,
 "nbformat_minor": 2
}
