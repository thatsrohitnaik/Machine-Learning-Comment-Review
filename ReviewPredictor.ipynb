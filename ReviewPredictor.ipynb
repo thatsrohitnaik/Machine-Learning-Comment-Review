{
 "cells": [
  {
   "cell_type": "code",
   "execution_count": 74,
   "metadata": {},
   "outputs": [],
   "source": [
    "class Sentiment:\n",
    "    NEGATIVE = \"NEGATIVE\"\n",
    "    NEUTRAL = \"NEUTRAL\"\n",
    "    POSITIVE = \"POSITIVE\"\n",
    "    \n",
    "class Review:\n",
    "    def __init__(self,text,score):\n",
    "        self.text = text\n",
    "        self.score = score\n",
    "        self.senti = self.get_sentiments()\n",
    "        \n",
    "    def get_sentiments(self):\n",
    "        if self.score <=4:\n",
    "            return Sentiment.NEGATIVE\n",
    "        elif self.score ==3:\n",
    "            return Sentiment.NEUTRAL\n",
    "        else: \n",
    "            return Sentiment.POSITIVE\n",
    "        \n",
    "        "
   ]
  },
  {
   "cell_type": "code",
   "execution_count": 75,
   "metadata": {},
   "outputs": [
    {
     "data": {
      "text/plain": [
       "'NEGATIVE'"
      ]
     },
     "execution_count": 75,
     "metadata": {},
     "output_type": "execute_result"
    }
   ],
   "source": [
    "import json\n",
    "\n",
    "file_name = \"./books.json\"\n",
    "\n",
    "reviews = []\n",
    "with open (file_name) as f:\n",
    "    for line in f:\n",
    "        review = json.loads(line)\n",
    "        reviews.append(Review(review['reviewText'],review['overall']))\n",
    "        \n",
    "reviews[2].senti"
   ]
  },
  {
   "cell_type": "code",
   "execution_count": 76,
   "metadata": {},
   "outputs": [],
   "source": [
    "from sklearn.model_selection import train_test_split\n",
    "\n",
    "training, test = train_test_split(reviews,test_size=0.25, random_state=42)"
   ]
  },
  {
   "cell_type": "code",
   "execution_count": 57,
   "metadata": {},
   "outputs": [
    {
     "data": {
      "text/plain": [
       "5.0"
      ]
     },
     "execution_count": 57,
     "metadata": {},
     "output_type": "execute_result"
    }
   ],
   "source": [
    "training[0].score"
   ]
  },
  {
   "cell_type": "code",
   "execution_count": 58,
   "metadata": {},
   "outputs": [],
   "source": [
    "training_x = [x.text for x in training]\n",
    "training_y = [y.senti for y in training]\n",
    "\n",
    "test_x = [x.text for x in test]\n",
    "test_y = [y.senti for y in test]\n"
   ]
  },
  {
   "cell_type": "code",
   "execution_count": 69,
   "metadata": {},
   "outputs": [
    {
     "name": "stdout",
     "output_type": "stream",
     "text": [
      "  (0, 17608)\t0.2764052596022673\n",
      "  (0, 971)\t0.24452485356092662\n",
      "  (0, 26589)\t0.34469154359408555\n",
      "  (0, 7557)\t0.209269729243458\n",
      "  (0, 17267)\t0.13915267122653013\n",
      "  (0, 20221)\t0.12043235924946225\n",
      "  (0, 27346)\t0.16484607962248893\n",
      "  (0, 15942)\t0.31249412883202404\n",
      "  (0, 27805)\t0.315393793422879\n",
      "  (0, 3880)\t0.1269292870573243\n",
      "  (0, 27153)\t0.11880037816383811\n",
      "  (0, 12617)\t0.41243493393462766\n",
      "  (0, 27600)\t0.1271490689907476\n",
      "  (0, 25187)\t0.08919128086337587\n",
      "  (0, 2184)\t0.18697339730595477\n",
      "  (0, 18875)\t0.42851604872579435\n"
     ]
    }
   ],
   "source": [
    "from sklearn.feature_extraction.text import CountVectorizer, TfidfVectorizer\n",
    "\n",
    "vectorizer = TfidfVectorizer()\n",
    "\n",
    "training_x_vector_ = vectorizer.fit_transform(training_x)\n",
    "\n",
    "test_x_vector = vectorizer.transform(test_x)\n",
    "\n",
    "\n",
    "print(training_x_vector_[0])\n"
   ]
  },
  {
   "cell_type": "code",
   "execution_count": 77,
   "metadata": {},
   "outputs": [
    {
     "data": {
      "text/plain": [
       "array(['POSITIVE'], dtype='|S8')"
      ]
     },
     "execution_count": 77,
     "metadata": {},
     "output_type": "execute_result"
    }
   ],
   "source": [
    "from sklearn import svm\n",
    "clf = svm.SVC(kernel='linear')\n",
    "\n",
    "clf.fit(training_x_vector_, training_y)\n",
    "\n",
    "clf.predict(test_x_vector[6])"
   ]
  },
  {
   "cell_type": "code",
   "execution_count": 78,
   "metadata": {},
   "outputs": [
    {
     "data": {
      "text/plain": [
       "array(['POSITIVE'], dtype='|S8')"
      ]
     },
     "execution_count": 78,
     "metadata": {},
     "output_type": "execute_result"
    }
   ],
   "source": [
    "from sklearn.tree import DecisionTreeClassifier\n",
    "\n",
    "clf_deciTree = DecisionTreeClassifier()\n",
    "\n",
    "clf_deciTree.fit(training_x_vector_, training_y)\n",
    "\n",
    "clf_deciTree.predict(test_x_vector[6])"
   ]
  },
  {
   "cell_type": "code",
   "execution_count": 79,
   "metadata": {},
   "outputs": [],
   "source": [
    "from sklearn.naive_bayes import GaussianNB\n",
    "\n",
    "clf_gnb = GaussianNB()\n",
    "\n",
    "#clf_gnb.fit(training_x_vector_, training_y)\n",
    "\n",
    "#clf_gnb.predict(test_x_vector[0])"
   ]
  },
  {
   "cell_type": "code",
   "execution_count": 73,
   "metadata": {},
   "outputs": [
    {
     "data": {
      "text/plain": [
       "array(['POSITIVE'], dtype='|S8')"
      ]
     },
     "execution_count": 73,
     "metadata": {},
     "output_type": "execute_result"
    }
   ],
   "source": [
    "from sklearn.linear_model import LogisticRegression\n",
    "\n",
    "clf_log = LogisticRegression()\n",
    "clf_log.fit(training_x_vector_, training_y)\n",
    "\n",
    "clf_log.predict(test_x_vector[6])"
   ]
  },
  {
   "cell_type": "code",
   "execution_count": 68,
   "metadata": {},
   "outputs": [
    {
     "name": "stdout",
     "output_type": "stream",
     "text": [
      "0.9982666666666666\n",
      "1.0\n",
      "0.9841333333333333\n"
     ]
    }
   ],
   "source": [
    "print(clf.score(training_x_vector_, training_y))\n",
    "print(clf_deciTree.score(training_x_vector_, training_y))\n",
    "print(clf_log.score(training_x_vector_, training_y))\n"
   ]
  },
  {
   "cell_type": "code",
   "execution_count": null,
   "metadata": {},
   "outputs": [],
   "source": []
  }
 ],
 "metadata": {
  "kernelspec": {
   "display_name": "Python 2",
   "language": "python",
   "name": "python2"
  },
  "language_info": {
   "codemirror_mode": {
    "name": "ipython",
    "version": 2
   },
   "file_extension": ".py",
   "mimetype": "text/x-python",
   "name": "python",
   "nbconvert_exporter": "python",
   "pygments_lexer": "ipython2",
   "version": "2.7.10"
  }
 },
 "nbformat": 4,
 "nbformat_minor": 2
}
